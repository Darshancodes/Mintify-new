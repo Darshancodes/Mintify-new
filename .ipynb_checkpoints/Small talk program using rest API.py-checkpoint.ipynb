{
 "cells": [
  {
   "cell_type": "code",
   "execution_count": null,
   "metadata": {},
   "outputs": [],
   "source": [
    "import requests\n",
    "\n",
    "base_url = 'https://restcountries.eu/rest/v2/all'\n",
    "\n",
    "resp = requests.get(base_url)\n",
    "\n",
    "data = resp.json()\n",
    "\n",
    "print(resp.json())\n",
    "\n",
    "print(data)\n",
    "\n",
    "print(\"What's youre name?\")\n",
    "user_name = input()\n",
    "print(\"Which country do you stay in?\")\n",
    "user_country = input()\n",
    "\n",
    "for country in data:\n",
    "    if(country['name'] == user_country):\n",
    "        print(\"Nice to meet you, {} !!!\".format(user_name))\n",
    "        print(\"I really like youre country {} , especially your country's capital {}\".format (user_country, country['capital']))\n",
    "        \n",
    "        print(\"Your country is pretty huge with more than {} people staying in the country.\".format(country['population']))\n",
    "        print(\"Your neighours are:\")\n",
    "        \n",
    "        for neighour in country['borders']:\n",
    "            code = requests.get('https://restcountries.eu/rest/v2/alpha{}'.format(neighour)).json()\n",
    "            print(code['name'])"
   ]
  },
  {
   "cell_type": "code",
   "execution_count": null,
   "metadata": {},
   "outputs": [],
   "source": []
  }
 ],
 "metadata": {
  "kernelspec": {
   "display_name": "Python 3",
   "language": "python",
   "name": "python3"
  },
  "language_info": {
   "codemirror_mode": {
    "name": "ipython",
    "version": 3
   },
   "file_extension": ".py",
   "mimetype": "text/x-python",
   "name": "python",
   "nbconvert_exporter": "python",
   "pygments_lexer": "ipython3",
   "version": "3.8.5"
  }
 },
 "nbformat": 4,
 "nbformat_minor": 4
}
